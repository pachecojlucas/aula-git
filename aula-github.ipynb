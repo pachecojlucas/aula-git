{
 "cells": [
  {
   "cell_type": "code",
   "execution_count": 1,
   "id": "a6ddcf2b",
   "metadata": {},
   "outputs": [],
   "source": [
    "aula = \"aula 1 python\""
   ]
  },
  {
   "cell_type": "code",
   "execution_count": 12,
   "id": "8485785e",
   "metadata": {},
   "outputs": [],
   "source": [
    "arquivo = open('arquivo2.txt', 'w')"
   ]
  },
  {
   "cell_type": "code",
   "execution_count": 13,
   "id": "9ebb6b33",
   "metadata": {},
   "outputs": [
    {
     "data": {
      "text/plain": [
       "6"
      ]
     },
     "execution_count": 13,
     "metadata": {},
     "output_type": "execute_result"
    }
   ],
   "source": [
    "arquivo.write('aula 1')"
   ]
  },
  {
   "cell_type": "code",
   "execution_count": 14,
   "id": "924dff48",
   "metadata": {},
   "outputs": [
    {
     "data": {
      "text/plain": [
       "<function TextIOWrapper.close()>"
      ]
     },
     "execution_count": 14,
     "metadata": {},
     "output_type": "execute_result"
    }
   ],
   "source": [
    "arquivo.close"
   ]
  },
  {
   "cell_type": "code",
   "execution_count": null,
   "id": "af26aabe",
   "metadata": {},
   "outputs": [],
   "source": []
  }
 ],
 "metadata": {
  "kernelspec": {
   "display_name": "Python 3 (ipykernel)",
   "language": "python",
   "name": "python3"
  },
  "language_info": {
   "codemirror_mode": {
    "name": "ipython",
    "version": 3
   },
   "file_extension": ".py",
   "mimetype": "text/x-python",
   "name": "python",
   "nbconvert_exporter": "python",
   "pygments_lexer": "ipython3",
   "version": "3.9.12"
  }
 },
 "nbformat": 4,
 "nbformat_minor": 5
}
